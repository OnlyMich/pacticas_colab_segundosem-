{
  "nbformat": 4,
  "nbformat_minor": 0,
  "metadata": {
    "colab": {
      "provenance": [],
      "authorship_tag": "ABX9TyM8DHb6n1oD+rSKg73gYWS4",
      "include_colab_link": true
    },
    "kernelspec": {
      "name": "python3",
      "display_name": "Python 3"
    },
    "language_info": {
      "name": "python"
    }
  },
  "cells": [
    {
      "cell_type": "markdown",
      "metadata": {
        "id": "view-in-github",
        "colab_type": "text"
      },
      "source": [
        "<a href=\"https://colab.research.google.com/github/OnlyMich/pacticas_colab_segundosem-/blob/main/funciones_tabla1.ipynb\" target=\"_parent\"><img src=\"https://colab.research.google.com/assets/colab-badge.svg\" alt=\"Open In Colab\"/></a>"
      ]
    },
    {
      "cell_type": "markdown",
      "source": [
        "Una función es un conjunto de instrucciones agrupadas bajo un nombre concreto que pueden reutilizarse invocando a la función tanta veces como sea necesaria.\n",
        "\n",
        "*   def nombreFuncion(parametros):\n",
        "*   bloque/conjunto de instrucciones\n",
        "*   nombreFuncion(parametros)\n"
      ],
      "metadata": {
        "id": "53qry1-rO3VY"
      }
    },
    {
      "cell_type": "code",
      "source": [
        "#ejemplo crear funcion\n",
        "\n",
        "def nombre():\n",
        "  print(\"alejandro\")\n",
        "\n",
        "nombre()\n",
        "nombre()"
      ],
      "metadata": {
        "colab": {
          "base_uri": "https://localhost:8080/"
        },
        "id": "765Y98awPu24",
        "outputId": "338384c4-9d80-401b-b1bb-9496db6abe60"
      },
      "execution_count": null,
      "outputs": [
        {
          "output_type": "stream",
          "name": "stdout",
          "text": [
            "alejandro\n",
            "alejandro\n"
          ]
        }
      ]
    },
    {
      "cell_type": "code",
      "source": [
        "#esta funcion recibe dos num y devuelve su suma\n",
        "\n",
        "def sumar(a,b):\n",
        "  return a+b\n",
        "c=sumar(2,5)\n",
        "print(\"2+5=\")\n",
        "print (c)\n",
        "print(sumar(2,5))"
      ],
      "metadata": {
        "colab": {
          "base_uri": "https://localhost:8080/"
        },
        "id": "i3Cl-UEVQXGg",
        "outputId": "6590d3e3-fca0-4200-9598-db7eca758cd8"
      },
      "execution_count": null,
      "outputs": [
        {
          "output_type": "stream",
          "name": "stdout",
          "text": [
            "2+5=\n",
            "7\n",
            "7\n"
          ]
        }
      ]
    },
    {
      "cell_type": "code",
      "source": [
        "#esta funcion recibe 2 num y devuleve la suma\n",
        "\n",
        "def sumar(a,b):\n",
        "  return a+b\n",
        "\n",
        "a=int(input(\"escribe el primer numero: \"))\n",
        "b=int(input(\"escribe el segundo numero: \"))\n",
        "\n",
        "print(sumar(a,b))\n",
        "c=sumar(2,5)\n",
        "print(f\"2+5={c}\")\n",
        "sumar(a,b)"
      ],
      "metadata": {
        "colab": {
          "base_uri": "https://localhost:8080/"
        },
        "id": "rkPvILMJRNXY",
        "outputId": "dce9613f-d109-434d-bc53-26161073d336"
      },
      "execution_count": null,
      "outputs": [
        {
          "output_type": "stream",
          "name": "stdout",
          "text": [
            "escribe el primer numero: 2\n",
            "escribe el segundo numero: 2\n",
            "4\n",
            "2+5=7\n"
          ]
        },
        {
          "output_type": "execute_result",
          "data": {
            "text/plain": [
              "4"
            ]
          },
          "metadata": {},
          "execution_count": 19
        }
      ]
    },
    {
      "cell_type": "code",
      "source": [
        "#funcion multiplicar\n",
        "\n",
        "def multiplicar(a,b):\n",
        "  return a*b\n",
        "\n",
        "a=int(input(\"escribe el primer numero: \"))\n",
        "b=int(input(\"escribe el segundo numero: \"))\n",
        "\n",
        "print(multiplicar(a,b))"
      ],
      "metadata": {
        "colab": {
          "base_uri": "https://localhost:8080/"
        },
        "id": "D3I1BPReSEyP",
        "outputId": "57ab9f5c-06b0-4cd3-8a72-60f1f24f300b"
      },
      "execution_count": null,
      "outputs": [
        {
          "output_type": "stream",
          "name": "stdout",
          "text": [
            "escribe el primer numero: 2\n",
            "escribe el segundo numero: 3\n",
            "6\n"
          ]
        }
      ]
    },
    {
      "cell_type": "code",
      "source": [
        "#funcion restar\n",
        "\n",
        "def restar(a,b):\n",
        "  return a-b\n",
        "\n",
        "a=int(input(\"escribe el primer numero: \"))\n",
        "b=int(input(\"escribe el segundo numero: \"))\n",
        "\n",
        "print(restar(a,b))"
      ],
      "metadata": {
        "colab": {
          "base_uri": "https://localhost:8080/"
        },
        "id": "NXgHI03DSUhX",
        "outputId": "974ad364-155b-4b88-b005-8be93b384fe2"
      },
      "execution_count": null,
      "outputs": [
        {
          "output_type": "stream",
          "name": "stdout",
          "text": [
            "escribe el primer numero: 3\n",
            "escribe el segundo numero: 2\n",
            "1\n"
          ]
        }
      ]
    },
    {
      "cell_type": "code",
      "source": [
        "#funcion dividir\n",
        "\n",
        "def dividir(a,b):\n",
        "  return a/b\n",
        "\n",
        "a=int(input(\"escribe el primer numero: \"))\n",
        "b=int(input(\"escribe el segundo numero: \"))\n",
        "\n",
        "print(dividir(a,b))"
      ],
      "metadata": {
        "colab": {
          "base_uri": "https://localhost:8080/"
        },
        "id": "bfpF6yh-Sffm",
        "outputId": "3235342e-b931-4cbb-ab27-b27729a1c3a2"
      },
      "execution_count": null,
      "outputs": [
        {
          "output_type": "stream",
          "name": "stdout",
          "text": [
            "escribe el primer numero: 25\n",
            "escribe el segundo numero: 5\n",
            "5.0\n"
          ]
        }
      ]
    },
    {
      "cell_type": "code",
      "source": [
        "#ejercicio\n",
        "#escribir funcion que reciba una lista y un valor,\n",
        "#y devuelva la cantidad de veces que aparece ese valor en la lista\n",
        "\n",
        "def ocurrencias(lista, valor):\n",
        "  #implementar\n",
        "  return 0\n",
        "\n",
        "l=[1,4,2,3,5,1,4,2,3,6,1,7,1,3,5,1,1,5,3,2]\n",
        "v=2\n",
        "print(l)\n",
        "print(ocurrencias(l, v))"
      ],
      "metadata": {
        "colab": {
          "base_uri": "https://localhost:8080/"
        },
        "id": "yb98_W3RTdfW",
        "outputId": "583aea31-b5b0-4239-c9b8-cc73b5a49cc3"
      },
      "execution_count": null,
      "outputs": [
        {
          "output_type": "stream",
          "name": "stdout",
          "text": [
            "[1, 4, 2, 3, 5, 1, 4, 2, 3, 6, 1, 7, 1, 3, 5, 1, 1, 5, 3, 2]\n",
            "0\n"
          ]
        }
      ]
    },
    {
      "cell_type": "code",
      "source": [
        "#primero definimos la funcion, especificando su nombre y sus parametros\n",
        "\n",
        "def area_circulo(r):\n",
        "  '''Funcion que recibe el radio del circulo y calcula su area'''\n",
        "  area = 3.1415*r**2\n",
        "  return area\n",
        "\n",
        "diametro = int(input(\"escribe el diametro: \"))\n",
        "area = area_circulo(diametro/2)\n",
        "print(f'area del circulo de diametro {diametro} es {area}')"
      ],
      "metadata": {
        "colab": {
          "base_uri": "https://localhost:8080/"
        },
        "id": "Ocj_NnX3Ujw-",
        "outputId": "6a908fbf-7b48-410a-a892-01e1347c0be7"
      },
      "execution_count": null,
      "outputs": [
        {
          "output_type": "stream",
          "name": "stdout",
          "text": [
            "escribe el diametro: 87\n",
            "area del circulo de diametro 87 es 5944.503375\n"
          ]
        }
      ]
    },
    {
      "cell_type": "markdown",
      "source": [
        "que calcula el area de un cilindro"
      ],
      "metadata": {
        "id": "NGUWDfmVWGnl"
      }
    },
    {
      "cell_type": "code",
      "source": [
        "#programa principal\n",
        "\n",
        "radio = float(input(\"ingresa el radio: \"))\n",
        "altura = float(input(\"ingresa la altura: \"))\n",
        "\n",
        "area_cilindro = 2*area_circulo(radio) + 2*3.1415*radio*altura\n",
        "\n",
        "print(f' el area de un cilindro con radio de  {radio} y una altura de {altura} es {area_cilindro}.')"
      ],
      "metadata": {
        "colab": {
          "base_uri": "https://localhost:8080/"
        },
        "id": "kzs6aeeKWJGe",
        "outputId": "647a535b-ddb7-431d-a48a-8109dfd3f701"
      },
      "execution_count": null,
      "outputs": [
        {
          "output_type": "stream",
          "name": "stdout",
          "text": [
            "ingresa el radio: 7\n",
            "ingresa la altura: 8\n",
            " el area de un cilindro con radio de  7.0 y una altura de 8.0 es 659.715.\n"
          ]
        }
      ]
    },
    {
      "cell_type": "code",
      "source": [
        "#tabla de multiplicar\n",
        "\n",
        "def tabla(numero):\n",
        "  print(f\"tabla de multiplicar del numero: {numero}\")\n",
        "\n",
        "  for i in range (11):\n",
        "    operacion= numero*i\n",
        "    print(f\"{numero} * {i} = {operacion}\")\n",
        "\n",
        "  print(\"\\n\")\n",
        "tabla(3)"
      ],
      "metadata": {
        "colab": {
          "base_uri": "https://localhost:8080/"
        },
        "id": "0egH6FoIXIXU",
        "outputId": "ba61526c-cd59-42c1-9c20-2df1fed38b34"
      },
      "execution_count": null,
      "outputs": [
        {
          "output_type": "stream",
          "name": "stdout",
          "text": [
            "tabla de multiplicar del numero: 3\n",
            "3 * 0 = 0\n",
            "3 * 1 = 3\n",
            "3 * 2 = 6\n",
            "3 * 3 = 9\n",
            "3 * 4 = 12\n",
            "3 * 5 = 15\n",
            "3 * 6 = 18\n",
            "3 * 7 = 21\n",
            "3 * 8 = 24\n",
            "3 * 9 = 27\n",
            "3 * 10 = 30\n",
            "\n",
            "\n"
          ]
        }
      ]
    },
    {
      "cell_type": "code",
      "source": [
        "#imprimir las tablas de mult del 1 al 10\n",
        "\n",
        "for numero_tabla in range (1,11):\n",
        "  tabla(numero_tabla)"
      ],
      "metadata": {
        "id": "C3Gh8SpAYS9k"
      },
      "execution_count": null,
      "outputs": []
    },
    {
      "cell_type": "markdown",
      "source": [
        "clase 17-10-2023 continuamos..."
      ],
      "metadata": {
        "id": "PJ4JjCXkZK_L"
      }
    },
    {
      "cell_type": "code",
      "source": [
        "#parametros opcionales\n",
        "\n",
        "def getEmpleado(nombre, id = none)"
      ],
      "metadata": {
        "id": "nKx7rcUbZGyM"
      },
      "execution_count": null,
      "outputs": []
    }
  ]
}