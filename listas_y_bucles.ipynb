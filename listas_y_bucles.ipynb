{
  "nbformat": 4,
  "nbformat_minor": 0,
  "metadata": {
    "colab": {
      "provenance": [],
      "authorship_tag": "ABX9TyMvpBmn/Ry1MRJk4UzbUef3",
      "include_colab_link": true
    },
    "kernelspec": {
      "name": "python3",
      "display_name": "Python 3"
    },
    "language_info": {
      "name": "python"
    }
  },
  "cells": [
    {
      "cell_type": "markdown",
      "metadata": {
        "id": "view-in-github",
        "colab_type": "text"
      },
      "source": [
        "<a href=\"https://colab.research.google.com/github/OnlyMich/pacticas_colab_segundosem-/blob/main/listas_y_bucles.ipynb\" target=\"_parent\"><img src=\"https://colab.research.google.com/assets/colab-badge.svg\" alt=\"Open In Colab\"/></a>"
      ]
    },
    {
      "cell_type": "code",
      "execution_count": null,
      "metadata": {
        "id": "cNum4gKdS-Q3"
      },
      "outputs": [],
      "source": [
        "lista = [1,2,3,4,5,6]\n",
        "for hola in lista:\n",
        "    print(hola)"
      ]
    },
    {
      "cell_type": "code",
      "source": [
        "lista = [\"A\",\"B\",\"C\",\"D\",\"E\",\"F\",\"G\",\"H\",\"I\",\"J\"]\n",
        "for i in lista:\n",
        "  if (i == \"H\"):\n",
        "    break\n",
        "  print(i)\n"
      ],
      "metadata": {
        "id": "aljll-8JT6w-",
        "outputId": "369825c7-cc19-42be-810f-07736166b9d3",
        "colab": {
          "base_uri": "https://localhost:8080/"
        }
      },
      "execution_count": null,
      "outputs": [
        {
          "output_type": "stream",
          "name": "stdout",
          "text": [
            "A\n",
            "B\n",
            "C\n",
            "D\n",
            "E\n",
            "F\n",
            "G\n"
          ]
        }
      ]
    },
    {
      "cell_type": "code",
      "source": [
        "for index in range(0,13):\n",
        "  print(index)"
      ],
      "metadata": {
        "id": "0A9Pfwm0T-Nd",
        "outputId": "8adc3c55-0373-482b-b249-f2dd419b2d68",
        "colab": {
          "base_uri": "https://localhost:8080/"
        }
      },
      "execution_count": null,
      "outputs": [
        {
          "output_type": "stream",
          "name": "stdout",
          "text": [
            "0\n",
            "1\n",
            "2\n",
            "3\n",
            "4\n",
            "5\n",
            "6\n",
            "7\n",
            "8\n",
            "9\n",
            "10\n",
            "11\n",
            "12\n"
          ]
        }
      ]
    },
    {
      "cell_type": "code",
      "source": [
        "for index in range(50):\n",
        "  print(index)"
      ],
      "metadata": {
        "id": "O1OH2vtkY7KG"
      },
      "execution_count": null,
      "outputs": []
    },
    {
      "cell_type": "code",
      "source": [
        "for index in range (5,10):\n",
        "  print(index)"
      ],
      "metadata": {
        "id": "cbKXXT_7ZJ8E"
      },
      "execution_count": null,
      "outputs": []
    },
    {
      "cell_type": "code",
      "source": [
        "for index in range (0, 101, 5):\n",
        "  print(index)"
      ],
      "metadata": {
        "id": "_VQaCl6AZYuA"
      },
      "execution_count": null,
      "outputs": []
    },
    {
      "cell_type": "code",
      "source": [
        "lista = [1,2,3,4,5,6,8,9]\n",
        "for numero in lista:\n",
        "  if numero == 7:\n",
        "    print(numero)\n",
        "    break\n",
        "else:\n",
        "  print(\"El numero 7 no existe en la lista\")"
      ],
      "metadata": {
        "id": "28QKn6_IZgrH"
      },
      "execution_count": null,
      "outputs": []
    },
    {
      "cell_type": "code",
      "source": [
        "lista = [1,2,3,4,5,6,7,8,9]\n",
        "\n",
        "for numero in lista:\n",
        "  if numero != 7: #!= significa diferente\n",
        "   print(numero)"
      ],
      "metadata": {
        "id": "lMuYHECeaInl"
      },
      "execution_count": null,
      "outputs": []
    },
    {
      "cell_type": "code",
      "source": [
        "diccionario = {\"a\":123, \"b\":456, \"c\":789, \"d\":101112}\n",
        "for clave in diccionario.keys():\n",
        "    print(clave)"
      ],
      "metadata": {
        "id": "NJlq6Cw_b8Zh"
      },
      "execution_count": null,
      "outputs": []
    },
    {
      "cell_type": "code",
      "source": [
        "for valores in diccionario.values():\n",
        "    print(valores)"
      ],
      "metadata": {
        "id": "kCVG73hhdo6y"
      },
      "execution_count": null,
      "outputs": []
    },
    {
      "cell_type": "code",
      "source": [
        "for clave, valor in diccionario.items():\n",
        "    print(clave, valor)"
      ],
      "metadata": {
        "id": "Vegzc7gXdlyC"
      },
      "execution_count": null,
      "outputs": []
    },
    {
      "cell_type": "code",
      "source": [
        "alumnos = [\"Jesús\", \"Abraham\", \"Antonio\", \"José\"]\n",
        "registro ={}\n",
        "\n",
        "for alumno in alumnos:\n",
        "  calificacion = float(input(\"Ingrese la calificación de \" + alumno+\": \"))\n",
        "  registro[alumno] = calificacion\n",
        "\n",
        "for clave, valor in registro.items():\n",
        "    print(clave,valor)"
      ],
      "metadata": {
        "id": "rwaeP7GldtFp"
      },
      "execution_count": null,
      "outputs": []
    },
    {
      "cell_type": "code",
      "source": [
        "nombres = []\n",
        "edades = []\n",
        "colores = []\n",
        "\n",
        "cantidadPersonas = int(input(\"Ingresa el número de personas a entrevistas: \"))\n",
        "for numero in range(cantidadPersonas):\n",
        "   nombre = input(\"¿Cuál es tu nombre? \")\n",
        "   edad = int(input(\"¿Cuál es tu edad? \"))\n",
        "   color = input(\"¿Cuál es tu color fav? \")\n",
        "\n",
        "   nombres.append(nombre)\n",
        "   edades.append(edad)\n",
        "   colores.append(color)\n",
        "\n",
        "print(nombres)\n",
        "print(colores)\n",
        "print(edades)\n"
      ],
      "metadata": {
        "id": "5LPtIMmtf_39"
      },
      "execution_count": null,
      "outputs": []
    },
    {
      "cell_type": "code",
      "source": [
        "for index in range(len(nombres)):\n",
        "    print(nombres[index], edades[index], colores[index])"
      ],
      "metadata": {
        "id": "mdyaK8yHjX6Z"
      },
      "execution_count": null,
      "outputs": []
    },
    {
      "cell_type": "code",
      "source": [],
      "metadata": {
        "id": "N4ikOU7_pJuJ"
      },
      "execution_count": null,
      "outputs": []
    },
    {
      "cell_type": "code",
      "source": [],
      "metadata": {
        "id": "rNRCGZmopKEI"
      },
      "execution_count": null,
      "outputs": []
    },
    {
      "cell_type": "code",
      "source": [
        "while True:\n",
        "  print(\"Iniciando e bucle secundario\")\n",
        "  while True:\n",
        "    opcion = input(\"Ingresa salir para romper el bucle secundario \")\n",
        "    if opcion == \"salir\":\n",
        "      break\n",
        "\n",
        "  print(\"Terminó el bucle secundario\")"
      ],
      "metadata": {
        "id": "RM98CS5akOrr"
      },
      "execution_count": null,
      "outputs": []
    },
    {
      "cell_type": "code",
      "source": [
        "while True:\n",
        "  print(\"Iniciando e bucle secundario\")\n",
        "  while True:\n",
        "    opcion = input(\"Ingresa salir para romper el bucle secundario \")\n",
        "    if opcion == \"salir\":\n",
        "      break\n",
        "  print(\"Terminó el bucle secundario\")\n",
        "  opcion = input(\"Ingresa salir para romper el bucle primario \")\n",
        "  if opcion == \"salir\":\n",
        "    break"
      ],
      "metadata": {
        "id": "Z3xpru9cljvq"
      },
      "execution_count": null,
      "outputs": []
    },
    {
      "cell_type": "code",
      "source": [
        "while True:\n",
        "  print(\"Iniciando el bucle secundario\")\n",
        "  bandera = 0\n",
        "  while True:\n",
        "    opcion = input(\"Ingresa salir para romper el bucle secundario \")\n"
      ],
      "metadata": {
        "id": "QKDuqThQmT0k"
      },
      "execution_count": null,
      "outputs": []
    }
  ]
}