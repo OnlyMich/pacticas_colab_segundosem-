{
  "nbformat": 4,
  "nbformat_minor": 0,
  "metadata": {
    "colab": {
      "provenance": [],
      "authorship_tag": "ABX9TyM16c+WMU5dPLFLNoF+UXT5",
      "include_colab_link": true
    },
    "kernelspec": {
      "name": "python3",
      "display_name": "Python 3"
    },
    "language_info": {
      "name": "python"
    }
  },
  "cells": [
    {
      "cell_type": "markdown",
      "metadata": {
        "id": "view-in-github",
        "colab_type": "text"
      },
      "source": [
        "<a href=\"https://colab.research.google.com/github/OnlyMich/pacticas_colab_segundosem-/blob/main/examen.ipynb\" target=\"_parent\"><img src=\"https://colab.research.google.com/assets/colab-badge.svg\" alt=\"Open In Colab\"/></a>"
      ]
    },
    {
      "cell_type": "code",
      "execution_count": null,
      "metadata": {
        "id": "-43DEnd2QO1F"
      },
      "outputs": [],
      "source": [
        "import numpy as np\n",
        "from itertools import count"
      ]
    },
    {
      "cell_type": "markdown",
      "source": [
        "EXAMEN FLORES ZAMILPA MICHELLE MONSERRT"
      ],
      "metadata": {
        "id": "o_QsXopLkOVD"
      }
    },
    {
      "cell_type": "code",
      "source": [
        "#1 realiza un programa que lee una lista de 10 nombres\n",
        "x = [\"michelle\", \"angel\", \"samuel\", \"mariana\", \"oscar\", \"fabiola\", \"erika\", \"carmen\", \"yeri\", \"norma\"]\n",
        "print (x)"
      ],
      "metadata": {
        "colab": {
          "base_uri": "https://localhost:8080/"
        },
        "id": "U-JymhGsQvcu",
        "outputId": "8db91c54-c859-4b90-b93b-3b27d93ee7d8"
      },
      "execution_count": null,
      "outputs": [
        {
          "output_type": "stream",
          "name": "stdout",
          "text": [
            "['michelle', 'angel', 'samuel', 'mariana', 'oscar', 'fabiola', 'erika', 'carmen', 'yeri', 'norma']\n"
          ]
        }
      ]
    },
    {
      "cell_type": "code",
      "source": [
        "#2 cuenta las vocales de la lista creada"
      ],
      "metadata": {
        "id": "CS308jCTQ0j1"
      },
      "execution_count": null,
      "outputs": []
    },
    {
      "cell_type": "code",
      "source": [
        "#3 cuenta las consonantes de la lista creada"
      ],
      "metadata": {
        "id": "aeoARqVlQ0rt"
      },
      "execution_count": null,
      "outputs": []
    },
    {
      "cell_type": "code",
      "source": [
        "#4 cuenta los espacios en blanco de la lista creada"
      ],
      "metadata": {
        "id": "n92BUjKxQ0zM"
      },
      "execution_count": null,
      "outputs": []
    },
    {
      "cell_type": "code",
      "source": [
        "#5 crea una nueva lista con 10 cantidades\n",
        "y = [\"123.45\", \"678.9\", \"234.889\", \"786.13\", \"45.678\", \"34.1\", \"542.90\", \"123.789\", \"97.3\", \"647.78\"]\n",
        "print (y)\n"
      ],
      "metadata": {
        "colab": {
          "base_uri": "https://localhost:8080/"
        },
        "id": "gUTH6K5MQ1Wk",
        "outputId": "c39933a2-cfc4-4d05-8b8c-81f2ca9c9efd"
      },
      "execution_count": null,
      "outputs": [
        {
          "output_type": "stream",
          "name": "stdout",
          "text": [
            "['123.45', '678.9', '234.889', '786.13', '45.678', '34.1', '542.90', '123.789', '97.3', '647.78']\n"
          ]
        }
      ]
    },
    {
      "cell_type": "code",
      "source": [
        "#6 calcula el promedio de los elementos 3, 6, 9\n",
        "a = 234.889\n",
        "b = 34.1\n",
        "c = 97.3\n",
        "promedio = float\n",
        "\n",
        "promedio = (a+b+c)/3\n",
        "print (promedio)"
      ],
      "metadata": {
        "colab": {
          "base_uri": "https://localhost:8080/"
        },
        "id": "OI696yeAQ1eV",
        "outputId": "7c962a9e-8df7-4024-80f7-1c56a5bc30b8"
      },
      "execution_count": null,
      "outputs": [
        {
          "output_type": "stream",
          "name": "stdout",
          "text": [
            "122.09633333333335\n"
          ]
        }
      ]
    },
    {
      "cell_type": "code",
      "source": [
        "#7 cuenta las cantidades de mayor a 6000\n",
        "from IPython.core.magics.code import extract_code_ranges\n",
        "\n",
        "if  a > 6000:\n",
        "  extract_code_ranges\n",
        "print()"
      ],
      "metadata": {
        "colab": {
          "base_uri": "https://localhost:8080/"
        },
        "id": "qx1N27EAQ1mN",
        "outputId": "38aa0579-ae4d-47af-bad5-c93cbaa9b736"
      },
      "execution_count": null,
      "outputs": [
        {
          "output_type": "stream",
          "name": "stdout",
          "text": [
            "\n"
          ]
        }
      ]
    },
    {
      "cell_type": "markdown",
      "source": [],
      "metadata": {
        "id": "RzX-5UoZkMvj"
      }
    },
    {
      "cell_type": "code",
      "source": [
        "#8 extraer la cantidad mayor de la lista\n",
        "max(list(y))"
      ],
      "metadata": {
        "colab": {
          "base_uri": "https://localhost:8080/",
          "height": 35
        },
        "id": "cOikHOHzQ1tU",
        "outputId": "0a4d9ab1-51a6-485c-bf43-9e9e1a76887d"
      },
      "execution_count": null,
      "outputs": [
        {
          "output_type": "execute_result",
          "data": {
            "text/plain": [
              "'97.3'"
            ],
            "application/vnd.google.colaboratory.intrinsic+json": {
              "type": "string"
            }
          },
          "metadata": {},
          "execution_count": 199
        }
      ]
    },
    {
      "cell_type": "code",
      "source": [
        "#9 extraer la cantidad menor de de lista\n",
        "min(list(y))"
      ],
      "metadata": {
        "colab": {
          "base_uri": "https://localhost:8080/",
          "height": 35
        },
        "id": "HlY8R0XAQ1zk",
        "outputId": "ff260d13-83f4-4649-c3f1-edf164ef20c9"
      },
      "execution_count": null,
      "outputs": [
        {
          "output_type": "execute_result",
          "data": {
            "text/plain": [
              "'123.45'"
            ],
            "application/vnd.google.colaboratory.intrinsic+json": {
              "type": "string"
            }
          },
          "metadata": {},
          "execution_count": 200
        }
      ]
    },
    {
      "cell_type": "code",
      "source": [
        "#10 calcula el promedio de la lista\n",
        "promedio = float\n",
        "promedio = (123.45+678.9+234.889+786.13+45.678+34.1+542.90+123.789+97.3+647.78)/10\n",
        "print(promedio)\n"
      ],
      "metadata": {
        "colab": {
          "base_uri": "https://localhost:8080/"
        },
        "id": "SK96-KddRfvt",
        "outputId": "583703d6-4af4-43b7-edb3-e48f749d546a"
      },
      "execution_count": null,
      "outputs": [
        {
          "output_type": "stream",
          "name": "stdout",
          "text": [
            "331.4916\n"
          ]
        }
      ]
    }
  ]
}