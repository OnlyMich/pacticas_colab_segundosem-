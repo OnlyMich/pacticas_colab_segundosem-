{
  "nbformat": 4,
  "nbformat_minor": 0,
  "metadata": {
    "colab": {
      "provenance": [],
      "authorship_tag": "ABX9TyOpykgb40A7tjE3JZNdZ7uu",
      "include_colab_link": true
    },
    "kernelspec": {
      "name": "python3",
      "display_name": "Python 3"
    },
    "language_info": {
      "name": "python"
    }
  },
  "cells": [
    {
      "cell_type": "markdown",
      "metadata": {
        "id": "view-in-github",
        "colab_type": "text"
      },
      "source": [
        "<a href=\"https://colab.research.google.com/github/OnlyMich/pacticas_colab_segundosem-/blob/main/promedio.ipynb\" target=\"_parent\"><img src=\"https://colab.research.google.com/assets/colab-badge.svg\" alt=\"Open In Colab\"/></a>"
      ]
    },
    {
      "cell_type": "code",
      "execution_count": null,
      "metadata": {
        "id": "bn_DxM9_CbYP"
      },
      "outputs": [],
      "source": [
        "#escribir texto y obtener su representacion en prden inversa:\n",
        "nombre = input (\"escribe el nombre \")\n",
        "print(\"su nombre es: \",nombre)\n",
        "inversa = nombre[:: -1]\n",
        "print (\"su nombre invertido es: \",inversa)"
      ]
    },
    {
      "cell_type": "code",
      "source": [
        "import numpy as np     #importamos libreria de funciones matematicas, el np es diminutivo de numpy\n"
      ],
      "metadata": {
        "id": "xSUzFaYDG7Km"
      },
      "execution_count": null,
      "outputs": []
    },
    {
      "cell_type": "code",
      "source": [
        "lista = [1,45,67,87,89,43,23]\n",
        "lista"
      ],
      "metadata": {
        "id": "EaW5jXquHlEZ"
      },
      "execution_count": null,
      "outputs": []
    },
    {
      "cell_type": "code",
      "source": [
        "promedio = np.mean(lista)         #con \"ctrl+enter\" se puede ejecutar el codigo\n",
        "mediana = np.median(lista)\n",
        "minimo = np.min(lista)\n",
        "maximo = np.max(lista)"
      ],
      "metadata": {
        "id": "-fjkmqsWH7ja",
        "outputId": "b358a104-6514-4347-efe6-6000fbfdf064",
        "colab": {
          "base_uri": "https://localhost:8080/",
          "height": 227
        }
      },
      "execution_count": null,
      "outputs": [
        {
          "output_type": "error",
          "ename": "NameError",
          "evalue": "ignored",
          "traceback": [
            "\u001b[0;31m---------------------------------------------------------------------------\u001b[0m",
            "\u001b[0;31mNameError\u001b[0m                                 Traceback (most recent call last)",
            "\u001b[0;32m<ipython-input-2-cb032a65689b>\u001b[0m in \u001b[0;36m<cell line: 1>\u001b[0;34m()\u001b[0m\n\u001b[0;32m----> 1\u001b[0;31m \u001b[0mpromedio\u001b[0m \u001b[0;34m=\u001b[0m \u001b[0mnp\u001b[0m\u001b[0;34m.\u001b[0m\u001b[0mmean\u001b[0m\u001b[0;34m(\u001b[0m\u001b[0mlista\u001b[0m\u001b[0;34m)\u001b[0m         \u001b[0;31m#con \"ctrl+enter\" se puede ejecutar el codigo\u001b[0m\u001b[0;34m\u001b[0m\u001b[0;34m\u001b[0m\u001b[0m\n\u001b[0m\u001b[1;32m      2\u001b[0m \u001b[0mmediana\u001b[0m \u001b[0;34m=\u001b[0m \u001b[0mnp\u001b[0m\u001b[0;34m.\u001b[0m\u001b[0mmedian\u001b[0m\u001b[0;34m(\u001b[0m\u001b[0mlista\u001b[0m\u001b[0;34m)\u001b[0m\u001b[0;34m\u001b[0m\u001b[0;34m\u001b[0m\u001b[0m\n\u001b[1;32m      3\u001b[0m \u001b[0mminimo\u001b[0m \u001b[0;34m=\u001b[0m \u001b[0mnp\u001b[0m\u001b[0;34m.\u001b[0m\u001b[0mmin\u001b[0m\u001b[0;34m(\u001b[0m\u001b[0mlista\u001b[0m\u001b[0;34m)\u001b[0m\u001b[0;34m\u001b[0m\u001b[0;34m\u001b[0m\u001b[0m\n\u001b[1;32m      4\u001b[0m \u001b[0mmaximo\u001b[0m \u001b[0;34m=\u001b[0m \u001b[0mnp\u001b[0m\u001b[0;34m.\u001b[0m\u001b[0mmax\u001b[0m\u001b[0;34m(\u001b[0m\u001b[0mlista\u001b[0m\u001b[0;34m)\u001b[0m\u001b[0;34m\u001b[0m\u001b[0;34m\u001b[0m\u001b[0m\n",
            "\u001b[0;31mNameError\u001b[0m: name 'np' is not defined"
          ]
        }
      ]
    },
    {
      "cell_type": "code",
      "source": [
        "print(\"el promedio %1.2f\" %promedio)    #1.2f significa que se quiere imprimir dos decimales\n",
        "print(\"la mediana %1.2f\" %mediana)\n",
        "print(\"el minimo %1.2f\" %minimo)\n",
        "print(\"el maximo %1.2f\" %maximo)"
      ],
      "metadata": {
        "id": "Iui7f_U3JCO0",
        "outputId": "a93870ab-f838-4cb2-f438-f9e209864125",
        "colab": {
          "base_uri": "https://localhost:8080/",
          "height": 227
        }
      },
      "execution_count": null,
      "outputs": [
        {
          "output_type": "error",
          "ename": "NameError",
          "evalue": "ignored",
          "traceback": [
            "\u001b[0;31m---------------------------------------------------------------------------\u001b[0m",
            "\u001b[0;31mNameError\u001b[0m                                 Traceback (most recent call last)",
            "\u001b[0;32m<ipython-input-1-7c32a1c30193>\u001b[0m in \u001b[0;36m<cell line: 1>\u001b[0;34m()\u001b[0m\n\u001b[0;32m----> 1\u001b[0;31m \u001b[0mprint\u001b[0m\u001b[0;34m(\u001b[0m\u001b[0;34m\"el promedio %1.2f\"\u001b[0m \u001b[0;34m%\u001b[0m\u001b[0mpromedio\u001b[0m\u001b[0;34m)\u001b[0m    \u001b[0;31m#1.2f significa que se quiere imprimir dos decimales\u001b[0m\u001b[0;34m\u001b[0m\u001b[0;34m\u001b[0m\u001b[0m\n\u001b[0m\u001b[1;32m      2\u001b[0m \u001b[0mprint\u001b[0m\u001b[0;34m(\u001b[0m\u001b[0;34m\"la mediana %1.2f\"\u001b[0m \u001b[0;34m%\u001b[0m\u001b[0mmediana\u001b[0m\u001b[0;34m)\u001b[0m\u001b[0;34m\u001b[0m\u001b[0;34m\u001b[0m\u001b[0m\n\u001b[1;32m      3\u001b[0m \u001b[0mprint\u001b[0m\u001b[0;34m(\u001b[0m\u001b[0;34m\"el minimo %1.2f\"\u001b[0m \u001b[0;34m%\u001b[0m\u001b[0mminimo\u001b[0m\u001b[0;34m)\u001b[0m\u001b[0;34m\u001b[0m\u001b[0;34m\u001b[0m\u001b[0m\n\u001b[1;32m      4\u001b[0m \u001b[0mprint\u001b[0m\u001b[0;34m(\u001b[0m\u001b[0;34m\"el maximo %1.2f\"\u001b[0m \u001b[0;34m%\u001b[0m\u001b[0mmaximo\u001b[0m\u001b[0;34m)\u001b[0m\u001b[0;34m\u001b[0m\u001b[0;34m\u001b[0m\u001b[0m\n",
            "\u001b[0;31mNameError\u001b[0m: name 'promedio' is not defined"
          ]
        }
      ]
    },
    {
      "cell_type": "markdown",
      "source": [
        "construiremos nuestros datos de ejemplo, que es una lista de dos diccionarios donde diccionario tiene dos pares clave-valor."
      ],
      "metadata": {
        "id": "pniIpwC_KoXf"
      }
    },
    {
      "cell_type": "code",
      "source": [
        "data = [{\"cinco\" : 5, \"siete\" : 7} , {\"cuatro\" : 4, \"seis\" : 6}]\n",
        "    #construiremos una lista de ejemplo"
      ],
      "metadata": {
        "id": "E8gAAkzPK9XM"
      },
      "execution_count": null,
      "outputs": []
    },
    {
      "cell_type": "markdown",
      "source": [
        "ejemplo: acceder al diccionario dentro de la lista en Python.\n",
        "\n",
        "primero necesitamos acceder a los elementos de la lista, que son los diccionarios en este caso, iternando a traves de la lista. para la salida\n",
        "\n",
        "\n"
      ],
      "metadata": {
        "id": "6ihEf3hVLeSL"
      }
    },
    {
      "cell_type": "code",
      "source": [
        "for i in range ( len ( data ) ) : #iterando a traves de la lista\n",
        "    print (data [ i ])"
      ],
      "metadata": {
        "id": "x1okUeUKLmte"
      },
      "execution_count": null,
      "outputs": []
    },
    {
      "cell_type": "markdown",
      "source": [
        "para acceder a los elementos dentro de los diccionarios, primero debemos acceder al diccioonario y luego usar las teclas de los diccionarios para llegar a sus elementos."
      ],
      "metadata": {
        "id": "Bj8NjdfcNURm"
      }
    },
    {
      "cell_type": "code",
      "source": [
        "print (data [0] [\"cinco\"], data [1] [\"seis\"])\n",
        "#accediendo dentro de los diccionarios"
      ],
      "metadata": {
        "id": "bqeq43b_Nkmh"
      },
      "execution_count": null,
      "outputs": []
    },
    {
      "cell_type": "markdown",
      "source": [
        "creacion de datos, necesitaremos definir algunos datos\n",
        "\n",
        "son un objeto de lista que contiene seis elementos. verifiquemos el tipo de datos de cada elemento dentro de nuestra lista."
      ],
      "metadata": {
        "id": "mVlJdzxpOEy3"
      }
    },
    {
      "cell_type": "code",
      "source": [
        "mi_lista = [4, '7', 7, '6', 5, '4']    #crear lista de ejemplo\n",
        "print (mi_lista)     #imprimir lista de ejemplo"
      ],
      "metadata": {
        "id": "pqcHZKztOTIt"
      },
      "execution_count": null,
      "outputs": []
    },
    {
      "cell_type": "code",
      "source": [
        "for i in mi_lista: print (type (i))    # devuelve los tipos de datos de toos los elementos de la lista"
      ],
      "metadata": {
        "id": "XTK28q6CPBIC"
      },
      "execution_count": null,
      "outputs": []
    },
    {
      "cell_type": "markdown",
      "source": [
        "transformar los elementps de a lista de una cadena a un entero usando la funcion map"
      ],
      "metadata": {
        "id": "3cNWE0ylQUQ3"
      }
    },
    {
      "cell_type": "code",
      "source": [
        " my_list_int1 = list (map (int, mi_lista))\n",
        " print (my_list_int1)"
      ],
      "metadata": {
        "id": "2FViXg_dQML5"
      },
      "execution_count": null,
      "outputs": []
    },
    {
      "cell_type": "markdown",
      "source": [
        "imprimir el tipo de datos de todos los elementos de nuestra lista usando la funcion de type:"
      ],
      "metadata": {
        "id": "DmsYYLJeRCi2"
      }
    },
    {
      "cell_type": "code",
      "source": [
        "for i in my_list_int1: print (type(i))"
      ],
      "metadata": {
        "id": "nu9no9kERI5-"
      },
      "execution_count": null,
      "outputs": []
    },
    {
      "cell_type": "markdown",
      "source": [
        "transforme los elemntos de la lista de una cadena a un entero usando la comprension de la lista como alternativa a la funcion de mapa, tambien podemos usar la comprension de listas para convertir cadenas de caracteres en enteros."
      ],
      "metadata": {
        "id": "UVur5cZURubF"
      }
    },
    {
      "cell_type": "code",
      "source": [
        "my_list_int2 = [int (i) for i in mi_lista]   #aplicar comprension de lista\n",
        "print (my_list_int2)   # imprimir la lista actualizada"
      ],
      "metadata": {
        "id": "y5Hjw7qsR8xy"
      },
      "execution_count": null,
      "outputs": []
    },
    {
      "cell_type": "markdown",
      "source": [
        "como puede ver, a salida anterior se ve exactamente igual que la salida\n",
        "sin empargo, verifiquemos esto nuevamentw usando la funcion de type una vez mas:"
      ],
      "metadata": {
        "id": "DmLbK8h6SsR6"
      }
    },
    {
      "cell_type": "code",
      "source": [
        "for i in my_list_int2: print (type(i))    #devolver tipos de datos de todos los elementos de la lista"
      ],
      "metadata": {
        "id": "qsrii_CAS6xf"
      },
      "execution_count": null,
      "outputs": []
    }
  ]
}